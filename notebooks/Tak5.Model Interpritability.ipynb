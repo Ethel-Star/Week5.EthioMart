{
 "cells": [
  {
   "cell_type": "code",
   "execution_count": null,
   "metadata": {},
   "outputs": [],
   "source": [
    "import torch\n",
    "import shap\n",
    "import numpy as np\n",
    "from lime.lime_text import LimeTextExplainer\n",
    "from transformers import AutoModelForTokenClassification, AutoTokenizer\n",
    "\n",
    "model_path = r\"E:\\DS+ML\\AIM3\\Week5\\fine-tuned-model\"\n",
    "model = AutoModelForTokenClassification.from_pretrained(model_path)\n",
    "tokenizer = AutoTokenizer.from_pretrained(model_path)\n",
    "\n",
    "sample_text = \"በአዲስ አበባ ውስጥ አዲስ ስልክ በ 5000 ብር ይገኛል።\"\n",
    "\n",
    "def predict(masked_inputs):\n",
    "    tokenized_inputs = tokenizer(masked_inputs, return_tensors=\"pt\", padding=True, truncation=True)\n",
    "    input_ids = tokenized_inputs[\"input_ids\"]\n",
    "    attention_mask = tokenized_inputs[\"attention_mask\"]\n",
    "    with torch.no_grad():\n",
    "        logits = model(input_ids=input_ids, attention_mask=attention_mask).logits\n",
    "    probabilities = torch.softmax(logits, dim=-1).numpy()\n",
    "    return probabilities.astype(np.float32)\n",
    "\n",
    "masker = shap.maskers.Text(tokenizer)\n",
    "explainer = shap.Explainer(predict, masker)\n",
    "shap_values = explainer([sample_text])\n",
    "\n",
    "print(\"SHAP Analysis:\")\n",
    "shap.plots.text(shap_values)\n",
    "\n",
    "def predict_proba(texts):\n",
    "    inputs = tokenizer(texts, return_tensors=\"pt\", truncation=True, padding=True, max_length=512)\n",
    "    with torch.no_grad():\n",
    "        logits = model(**inputs).logits\n",
    "    probabilities = torch.softmax(logits, dim=-1).numpy()\n",
    "    return probabilities.astype(np.float32)\n",
    "\n",
    "explainer_lime = LimeTextExplainer(class_names=model.config.id2label.values())\n",
    "exp = explainer_lime.explain_instance(sample_text, predict_proba, num_features=10, top_labels=5)\n",
    "\n",
    "print(\"\\nLIME Analysis:\")\n",
    "exp.show_in_notebook()\n",
    "\n",
    "print(\"\\nModel Interpretability Report:\")\n",
    "print(\"1. SHAP Analysis: Highlights the importance of each token in the model's predictions.\")\n",
    "print(\"2. LIME Analysis: Provides local explanations for specific predictions.\")\n",
    "print(\"3. Recommendations: Add more diverse training data, fine-tune on overlapping entities, or experiment with different architectures.\")"
   ]
  },
  {
   "cell_type": "code",
   "execution_count": null,
   "metadata": {},
   "outputs": [],
   "source": []
  }
 ],
 "metadata": {
  "kernelspec": {
   "display_name": "env",
   "language": "python",
   "name": "python3"
  },
  "language_info": {
   "codemirror_mode": {
    "name": "ipython",
    "version": 3
   },
   "file_extension": ".py",
   "mimetype": "text/x-python",
   "name": "python",
   "nbconvert_exporter": "python",
   "pygments_lexer": "ipython3",
   "version": "3.12.8"
  }
 },
 "nbformat": 4,
 "nbformat_minor": 2
}
